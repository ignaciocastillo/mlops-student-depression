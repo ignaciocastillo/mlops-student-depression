{
 "cells": [
  {
   "cell_type": "code",
   "execution_count": 13,
   "id": "c3e42b8e0de8ca68",
   "metadata": {},
   "outputs": [
    {
     "name": "stdout",
     "output_type": "stream",
     "text": [
      "Acuracy real del modelo: 84.11%\n"
     ]
    }
   ],
   "source": [
    "import pandas as pd\n",
    "import numpy as np\n",
    "from sklearn.model_selection import train_test_split\n",
    "from sklearn.ensemble import RandomForestClassifier\n",
    "from sklearn.metrics import accuracy_score\n",
    "from sklearn.preprocessing import LabelEncoder\n",
    "\n",
    "# Cargar el dataset\n",
    "df = pd.read_csv(\"../data/student_depression.csv\")\n",
    "\n",
    "# Convertir 'Sleep Duration' a número\n",
    "def convert_sleep_duration(duration):\n",
    "    if pd.isnull(duration):\n",
    "        return None\n",
    "    duration = str(duration).replace(\"'\", \"\").replace(\"hours\", \"\").strip()\n",
    "    if '-' in duration:\n",
    "        start, end = duration.split('-')\n",
    "        return (int(start) + int(end)) / 2\n",
    "    if \"Less than\" in duration:\n",
    "        return 4\n",
    "    if \"More than\" in duration:\n",
    "        return 9\n",
    "    try:\n",
    "        return float(duration)\n",
    "    except:\n",
    "        return None\n",
    "\n",
    "df['Sleep Duration'] = df['Sleep Duration'].apply(convert_sleep_duration)\n",
    "\n",
    "# Eliminar columnas irrelevantes\n",
    "columns_to_drop = ['Job Satisfaction', 'id', 'City', 'Degree', 'Profession']\n",
    "df = df.drop(columns=[col for col in columns_to_drop if col in df.columns])\n",
    "\n",
    "# Codificar variables categóricas\n",
    "label_encoder = LabelEncoder()\n",
    "df['Gender'] = label_encoder.fit_transform(df['Gender'])\n",
    "df['Dietary Habits'] = label_encoder.fit_transform(df['Dietary Habits'])\n",
    "df['Have you ever had suicidal thoughts ?'] = label_encoder.fit_transform(df['Have you ever had suicidal thoughts ?'])\n",
    "df['Financial Stress'] = label_encoder.fit_transform(df['Financial Stress'])\n",
    "df['Family History of Mental Illness'] = label_encoder.fit_transform(df['Family History of Mental Illness'])\n",
    "\n",
    "# Eliminar filas nulas\n",
    "df = df.dropna()\n",
    "\n",
    "# Variables predictoras y objetivo\n",
    "X = df.drop(columns=[\"Depression\"])\n",
    "y = df[\"Depression\"]\n",
    "\n",
    "# División de datos\n",
    "X_train, X_test, y_train, y_test = train_test_split(X, y, test_size=0.2, random_state=42)\n",
    "\n",
    "# Entrenamiento del modelo\n",
    "model = RandomForestClassifier(n_estimators=100, random_state=42)\n",
    "model.fit(X_train, y_train)\n",
    "\n",
    "# Evaluación\n",
    "y_pred = model.predict(X_test)\n",
    "accuracy = accuracy_score(y_test, y_pred)\n",
    "\n",
    "print(f\"Acuracy real del modelo: {accuracy * 100:.2f}%\")\n"
   ]
  },
  {
   "cell_type": "code",
   "execution_count": 14,
   "id": "c61be35c-86df-4371-aa36-286cb2d45bf4",
   "metadata": {},
   "outputs": [
    {
     "name": "stdout",
     "output_type": "stream",
     "text": [
      "Accuracy base: 0.8405\n"
     ]
    }
   ],
   "source": [
    "import pandas as pd\n",
    "import numpy as np\n",
    "from sklearn.model_selection import train_test_split\n",
    "from sklearn.ensemble import RandomForestClassifier\n",
    "from sklearn.metrics import accuracy_score\n",
    "from sklearn.preprocessing import LabelEncoder\n",
    "\n",
    "# Cargar dataset\n",
    "df = pd.read_csv(\"../data/student_depression.csv\")\n",
    "\n",
    "# Convertir 'Sleep Duration'\n",
    "def convert_sleep_duration(duration):\n",
    "    if pd.isnull(duration):\n",
    "        return None\n",
    "    duration = str(duration).replace(\"'\", \"\").replace(\"hours\", \"\").strip()\n",
    "    if '-' in duration:\n",
    "        start, end = duration.split('-')\n",
    "        return (int(start) + int(end)) / 2\n",
    "    if \"Less than\" in duration:\n",
    "        return 4\n",
    "    if \"More than\" in duration:\n",
    "        return 9\n",
    "    try:\n",
    "        return float(duration)\n",
    "    except:\n",
    "        return None\n",
    "\n",
    "df['Sleep Duration'] = df['Sleep Duration'].apply(convert_sleep_duration)\n",
    "\n",
    "# Limpiar y codificar\n",
    "df.drop(columns=[\"Job Satisfaction\", \"id\", \"City\", \"Degree\", \"Profession\"], inplace=True, errors='ignore')\n",
    "df = df.dropna()\n",
    "le = LabelEncoder()\n",
    "for col in ['Gender', 'Dietary Habits', 'Have you ever had suicidal thoughts ?', 'Financial Stress', 'Family History of Mental Illness']:\n",
    "    df[col] = le.fit_transform(df[col])\n",
    "\n",
    "# Separar variables\n",
    "X = df.drop(columns=['Depression'])\n",
    "y = df['Depression']\n",
    "X_train, X_test, y_train, y_test = train_test_split(X, y, random_state=42)\n",
    "\n",
    "# Entrenar modelo\n",
    "model = RandomForestClassifier(random_state=42)\n",
    "model.fit(X_train, y_train)\n",
    "\n",
    "# Accuracy base\n",
    "y_pred = model.predict(X_test)\n",
    "accuracy = accuracy_score(y_test, y_pred)\n",
    "print(f\"Accuracy base: {accuracy:.4f}\")\n"
   ]
  },
  {
   "cell_type": "code",
   "execution_count": 15,
   "id": "d7f77e52-fc1e-41bf-aa6d-2b8266132aa4",
   "metadata": {},
   "outputs": [
    {
     "name": "stdout",
     "output_type": "stream",
     "text": [
      "Accuracy con menos árboles: 0.8261\n"
     ]
    }
   ],
   "source": [
    "# Cambiar modelo (menos árboles)\n",
    "model2 = RandomForestClassifier(n_estimators=10, random_state=42)\n",
    "model2.fit(X_train, y_train)\n",
    "\n",
    "# Calcular nuevo accuracy\n",
    "y_pred2 = model2.predict(X_test)\n",
    "accuracy2 = accuracy_score(y_test, y_pred2)\n",
    "print(f\"Accuracy con menos árboles: {accuracy2:.4f}\")\n"
   ]
  },
  {
   "cell_type": "code",
   "execution_count": 16,
   "id": "1eca913f-dd77-4a39-9b24-ed35cf0cc633",
   "metadata": {},
   "outputs": [
    {
     "name": "stdout",
     "output_type": "stream",
     "text": [
      "Accuracy con menos datos de entrenamiento: 0.8299\n"
     ]
    }
   ],
   "source": [
    "# Solo una parte de los datos\n",
    "X_train_small = X_train[:1000]\n",
    "y_train_small = y_train[:1000]\n",
    "\n",
    "model3 = RandomForestClassifier(random_state=42)\n",
    "model3.fit(X_train_small, y_train_small)\n",
    "\n",
    "y_pred3 = model3.predict(X_test)\n",
    "accuracy3 = accuracy_score(y_test, y_pred3)\n",
    "print(f\"Accuracy con menos datos de entrenamiento: {accuracy3:.4f}\")\n"
   ]
  },
  {
   "cell_type": "code",
   "execution_count": null,
   "id": "a4dc91ca-276d-4893-b421-647deed93b29",
   "metadata": {},
   "outputs": [],
   "source": []
  }
 ],
 "metadata": {
  "kernelspec": {
   "display_name": "Python 3 (ipykernel)",
   "language": "python",
   "name": "python3"
  },
  "language_info": {
   "codemirror_mode": {
    "name": "ipython",
    "version": 3
   },
   "file_extension": ".py",
   "mimetype": "text/x-python",
   "name": "python",
   "nbconvert_exporter": "python",
   "pygments_lexer": "ipython3",
   "version": "3.11.5"
  }
 },
 "nbformat": 4,
 "nbformat_minor": 5
}
